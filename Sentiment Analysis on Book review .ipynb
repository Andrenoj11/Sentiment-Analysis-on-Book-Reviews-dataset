{
 "cells": [
  {
   "cell_type": "code",
   "execution_count": 1,
   "metadata": {},
   "outputs": [],
   "source": [
    "import numpy as np\n",
    "import json\n",
    "import seaborn as sns\n",
    "import matplotlib.pyplot as plt"
   ]
  },
  {
   "cell_type": "code",
   "execution_count": 2,
   "metadata": {},
   "outputs": [
    {
     "name": "stdout",
     "output_type": "stream",
     "text": [
      "Review : \n",
      " I bought both boxed sets, books 1-5.  Really a great series!  Start book 1 three weeks ago and just finished book 5.  Sloane Monroe is a great character and being able to follow her through both private life and her PI life gets a reader very involved!  Although clues may be right in front of the reader, there are twists and turns that keep one guessing until the last page!  These are books you won't be disappointed with.\n",
      "Sentiment : POSITIVE\n"
     ]
    }
   ],
   "source": [
    "class Sentiment:\n",
    "    NEGATIVE = \"NEGATIVE\"\n",
    "    NEUTRAL = \"NEUTRAL\"\n",
    "    POSITIVE = \"POSITIVE\"\n",
    "\n",
    "class Review:\n",
    "    def __init__(self, text, score):\n",
    "        self.text = text\n",
    "        self.score = score\n",
    "        self.sentiment = self.get_sentiment()\n",
    "        \n",
    "    def get_sentiment(self):\n",
    "        if self.score <= 2:\n",
    "            return Sentiment.NEGATIVE\n",
    "        elif self.score == 3:\n",
    "            return Sentiment.NEUTRAL\n",
    "        else: #Score of 4 or 5\n",
    "            return Sentiment.POSITIVE\n",
    "        \n",
    "        \n",
    "file_name = 'books_review.json'\n",
    "reviews = []\n",
    "with open(file_name) as f:\n",
    "    for line in f:\n",
    "        review = json.loads(line)\n",
    "        reviews.append(Review(review['reviewText'], review['overall']))\n",
    "        \n",
    "print('Review : \\n', reviews[0].text)\n",
    "print('Sentiment :', reviews[0].sentiment)"
   ]
  },
  {
   "cell_type": "code",
   "execution_count": 3,
   "metadata": {},
   "outputs": [],
   "source": [
    "from sklearn.model_selection import train_test_split\n",
    "\n",
    "training, test = train_test_split(reviews, test_size=0.33, random_state=42)"
   ]
  },
  {
   "cell_type": "code",
   "execution_count": 4,
   "metadata": {},
   "outputs": [],
   "source": [
    "train_x = [x.text for x in training]\n",
    "train_y = [x.sentiment for x in training]\n",
    "\n",
    "test_x = [x.text for x in test]\n",
    "test_y = [x.sentiment for x in test]"
   ]
  },
  {
   "cell_type": "code",
   "execution_count": 5,
   "metadata": {},
   "outputs": [
    {
     "data": {
      "image/png": "[encoded data removed]",
      "text/plain": [
       "<Figure size 432x288 with 1 Axes>"
      ]
     },
     "metadata": {
      "needs_background": "light"
     },
     "output_type": "display_data"
    },
    {
     "name": "stdout",
     "output_type": "stream",
     "text": [
      "Positive : 5611, Negative : 436, Neutral : 653\n"
     ]
    }
   ],
   "source": [
    "positive = train_y.count(Sentiment.POSITIVE)\n",
    "negative = train_y.count(Sentiment.NEGATIVE)\n",
    "neutral = train_y.count(Sentiment.NEUTRAL)\n",
    "\n",
    "flatui = [\"g\", \"r\", 'b']\n",
    "sns.set_palette(flatui)\n",
    "sns.barplot(['Positive','Negative', 'Neutral'],[positive,negative, neutral])\n",
    "plt.xlabel('Sentiments')\n",
    "plt.ylabel('Count of Sentiments')\n",
    "plt.title('Train Data Sentiment Ratio')\n",
    "plt.show()\n",
    "print(f'Positive : {positive}, Negative : {negative}, Neutral : {neutral}')"
   ]
  },
  {
   "cell_type": "code",
   "execution_count": 6,
   "metadata": {},
   "outputs": [
    {
     "data": {
      "image/png": "[encoded data removed]",
      "text/plain": [
       "<Figure size 432x288 with 1 Axes>"
      ]
     },
     "metadata": {
      "needs_background": "light"
     },
     "output_type": "display_data"
    },
    {
     "name": "stdout",
     "output_type": "stream",
     "text": [
      "Positive : 2767, Negative : 208, Neutral : 325\n"
     ]
    }
   ],
   "source": [
    "positive = test_y.count(Sentiment.POSITIVE)\n",
    "negative = test_y.count(Sentiment.NEGATIVE)\n",
    "neutral = test_y.count(Sentiment.NEUTRAL)\n",
    "\n",
    "flatui = [\"g\", \"r\", 'b']\n",
    "sns.set_palette(flatui)\n",
    "sns.barplot(['Positive','Negative', 'Neutral'],[positive,negative, neutral])\n",
    "plt.xlabel('Sentiments')\n",
    "plt.ylabel('Count of Sentiments')\n",
    "plt.title('Test Data Sentiment Ratio')\n",
    "plt.show()\n",
    "print(f'Positive : {positive}, Negative : {negative}, Neutral : {neutral}')"
   ]
  },
  {
   "cell_type": "markdown",
   "metadata": {},
   "source": [
    "### Imbalance dataset is not good for building good model\n",
    "### Data imbalance usually reflects an unequal distribution of classes within a dataset"
   ]
  },
  {
   "cell_type": "code",
   "execution_count": 7,
   "metadata": {},
   "outputs": [],
   "source": [
    "# balance the data\n",
    "\n",
    "class ReviewContainer:\n",
    "    def __init__(self, reviews):\n",
    "        self.reviews = reviews\n",
    "        \n",
    "    def get_text(self):\n",
    "        return [x.text for x in self.reviews]\n",
    "    \n",
    "    def get_sentiment(self):\n",
    "        return [x.sentiment for x in self.reviews]\n",
    "        \n",
    "    def evenly_distribute(self):\n",
    "        negative = list(filter(lambda x: x.sentiment == Sentiment.NEGATIVE, self.reviews))\n",
    "        positive = list(filter(lambda x: x.sentiment == Sentiment.POSITIVE, self.reviews))\n",
    "        positive_shrunk = positive[:len(negative)]\n",
    "        self.reviews = negative + positive_shrunk\n",
    "        np.random.shuffle(self.reviews)"
   ]
  },
  {
   "cell_type": "code",
   "execution_count": 8,
   "metadata": {},
   "outputs": [
    {
     "name": "stdout",
     "output_type": "stream",
     "text": [
      "436\n",
      "436\n"
     ]
    }
   ],
   "source": [
    "train_container = ReviewContainer(training)\n",
    "test_container = ReviewContainer(test)\n",
    "\n",
    "train_container.evenly_distribute()\n",
    "train_x = train_container.get_text()\n",
    "train_y = train_container.get_sentiment()\n",
    "\n",
    "test_container.evenly_distribute()\n",
    "test_x = test_container.get_text()\n",
    "test_y = test_container.get_sentiment()\n",
    "\n",
    "print(train_y.count(Sentiment.POSITIVE))\n",
    "print(train_y.count(Sentiment.NEGATIVE))"
   ]
  },
  {
   "cell_type": "code",
   "execution_count": 9,
   "metadata": {},
   "outputs": [
    {
     "data": {
      "image/png": "[encoded data removed]",
      "text/plain": [
       "<Figure size 432x288 with 1 Axes>"
      ]
     },
     "metadata": {
      "needs_background": "light"
     },
     "output_type": "display_data"
    }
   ],
   "source": [
    "positive = train_y.count(Sentiment.POSITIVE)\n",
    "negative = train_y.count(Sentiment.NEGATIVE)\n",
    "\n",
    "flatui = [\"g\", \"r\"]\n",
    "sns.set_palette(flatui)\n",
    "sns.barplot(['Positive','Negative'],[positive,negative])\n",
    "plt.xlabel('Sentiments')\n",
    "plt.ylabel('Count of Sentiments')\n",
    "plt.title('New Train Data Sentiment Ratio')\n",
    "plt.show()\n"
   ]
  },
  {
   "cell_type": "code",
   "execution_count": 10,
   "metadata": {},
   "outputs": [
    {
     "data": {
      "image/png": "[encoded data removed]",
      "text/plain": [
       "<Figure size 432x288 with 1 Axes>"
      ]
     },
     "metadata": {
      "needs_background": "light"
     },
     "output_type": "display_data"
    },
    {
     "name": "stdout",
     "output_type": "stream",
     "text": [
      "Positive : 208, Negative : 208\n"
     ]
    }
   ],
   "source": [
    "positive = test_y.count(Sentiment.POSITIVE)\n",
    "negative = test_y.count(Sentiment.NEGATIVE)\n",
    "\n",
    "flatui = [\"g\", \"r\"]\n",
    "sns.set_palette(flatui)\n",
    "sns.barplot(['Positive','Negative'],[positive,negative])\n",
    "plt.xlabel('Sentiments')\n",
    "plt.ylabel('Count of Sentiments')\n",
    "plt.title('New Test Data Sentiment Ratio')\n",
    "plt.show()\n",
    "print(f'Positive : {positive}, Negative : {negative}')"
   ]
  },
  {
   "cell_type": "code",
   "execution_count": 11,
   "metadata": {},
   "outputs": [
    {
     "name": "stdout",
     "output_type": "stream",
     "text": [
      "Our grandson, who is 8 years old, asked for another book in the Hardy Boys series for Christmas so we got him this one.  He has not read it yet but was excited when he opened it!\n",
      "[[0. 0. 0. ... 0. 0. 0.]]\n"
     ]
    }
   ],
   "source": [
    "# bag of words\n",
    "\n",
    "from sklearn.feature_extraction.text import TfidfVectorizer\n",
    "\n",
    "vectorizer = TfidfVectorizer()\n",
    "train_x_vectors = vectorizer.fit_transform(train_x)\n",
    "\n",
    "test_x_vectors = vectorizer.transform(test_x)\n",
    "\n",
    "print(train_x[0])\n",
    "print(train_x_vectors[0].toarray())"
   ]
  },
  {
   "cell_type": "code",
   "execution_count": 12,
   "metadata": {},
   "outputs": [
    {
     "name": "stdout",
     "output_type": "stream",
     "text": [
      "Sample test review : \n",
      " \"Hard to put this book down. I found I really cared about the characters and was drawn into the story.\"\n",
      "Prediction using svm : NEGATIVE\n"
     ]
    }
   ],
   "source": [
    "# classification using svm model\n",
    "\n",
    "from sklearn import svm\n",
    "\n",
    "clf_svm = svm.SVC()\n",
    "\n",
    "clf_svm.fit(train_x_vectors, train_y)\n",
    "\n",
    "print(f'Sample test review : \\n \"{test_x[7]}\"')\n",
    "\n",
    "print('Prediction using svm :', clf_svm.predict(test_x_vectors[7])[0])"
   ]
  },
  {
   "cell_type": "code",
   "execution_count": 13,
   "metadata": {},
   "outputs": [
    {
     "name": "stdout",
     "output_type": "stream",
     "text": [
      "Sample test review : \n",
      " \"Hard to put this book down. I found I really cared about the characters and was drawn into the story.\"\n",
      "Prediction using decision tree : NEGATIVE\n"
     ]
    }
   ],
   "source": [
    "# classification using decision tree model\n",
    "\n",
    "from sklearn.tree import DecisionTreeClassifier\n",
    "\n",
    "clf_tree = DecisionTreeClassifier()\n",
    "clf_tree.fit(train_x_vectors, train_y)\n",
    "\n",
    "print(f'Sample test review : \\n \"{test_x[7]}\"')\n",
    "\n",
    "print('Prediction using decision tree :', clf_tree.predict(test_x_vectors[7])[0])"
   ]
  },
  {
   "cell_type": "code",
   "execution_count": 14,
   "metadata": {},
   "outputs": [
    {
     "name": "stdout",
     "output_type": "stream",
     "text": [
      "Sample test review : \n",
      " \"Hard to put this book down. I found I really cared about the characters and was drawn into the story.\"\n",
      "Prediction using naive bayes : NEGATIVE\n"
     ]
    }
   ],
   "source": [
    "# classification using logistic regression model\n",
    "\n",
    "from sklearn.linear_model import LogisticRegression\n",
    "\n",
    "clf_log = LogisticRegression()\n",
    "clf_log.fit(train_x_vectors, train_y)\n",
    "\n",
    "print(f'Sample test review : \\n \"{test_x[7]}\"')\n",
    "\n",
    "print('Prediction using naive bayes :', clf_log.predict(test_x_vectors[7])[0])"
   ]
  },
  {
   "cell_type": "code",
   "execution_count": 15,
   "metadata": {},
   "outputs": [
    {
     "name": "stdout",
     "output_type": "stream",
     "text": [
      "Mean accuracy of svm : 0.8100961538461539\n",
      "Mean accuracy of svm : 0.6370192307692307\n",
      "Mean accuracy of svm : 0.8052884615384616\n"
     ]
    }
   ],
   "source": [
    "# Check Mean Accuracy\n",
    "print(f'Mean accuracy of svm : {clf_svm.score(test_x_vectors, test_y)}')\n",
    "print(f'Mean accuracy of svm : {clf_tree.score(test_x_vectors, test_y)}')\n",
    "print(f'Mean accuracy of svm : {clf_log.score(test_x_vectors, test_y)}')"
   ]
  },
  {
   "cell_type": "code",
   "execution_count": 16,
   "metadata": {},
   "outputs": [
    {
     "name": "stdout",
     "output_type": "stream",
     "text": [
      "SVM f1 score for (+) and (-) : [0.80871671 0.81145585]\n",
      "Decision tree f1 score for (+) and (-) : [0.62899263 0.64470588]\n",
      "Logistic regression f1 score for (+) and (-) : [0.80291971 0.80760095]\n"
     ]
    }
   ],
   "source": [
    "# f1 score\n",
    "from sklearn.metrics import f1_score\n",
    "\n",
    "print('SVM f1 score for (+) and (-) :',f1_score(test_y, clf_svm.predict(test_x_vectors), average=None, labels=[Sentiment.POSITIVE, Sentiment.NEGATIVE]))\n",
    "print('Decision tree f1 score for (+) and (-) :',f1_score(test_y, clf_tree.predict(test_x_vectors), average=None, labels=[Sentiment.POSITIVE, Sentiment.NEGATIVE]))\n",
    "print('Logistic regression f1 score for (+) and (-) :',f1_score(test_y, clf_log.predict(test_x_vectors), average=None, labels=[Sentiment.POSITIVE, Sentiment.NEGATIVE]))"
   ]
  },
  {
   "cell_type": "markdown",
   "metadata": {},
   "source": [
    "#### SVM is the best model among other model for this case!"
   ]
  },
  {
   "cell_type": "code",
   "execution_count": 17,
   "metadata": {},
   "outputs": [
    {
     "data": {
      "text/plain": [
       "array(['POSITIVE', 'POSITIVE', 'NEGATIVE'], dtype='<U8')"
      ]
     },
     "execution_count": 17,
     "metadata": {},
     "output_type": "execute_result"
    }
   ],
   "source": [
    "# PLAY AROUND\n",
    "test_set = ['very good books', \"loved the cover\", 'bad book ever']\n",
    "new_test = vectorizer.transform(test_set)\n",
    "\n",
    "clf_svm.predict(new_test)"
   ]
  },
  {
   "cell_type": "markdown",
   "metadata": {},
   "source": [
    "### Confusion matrix"
   ]
  },
  {
   "cell_type": "code",
   "execution_count": 18,
   "metadata": {},
   "outputs": [
    {
     "data": {
      "text/plain": [
       "<matplotlib.axes._subplots.AxesSubplot at 0x1a12bafad0>"
      ]
     },
     "execution_count": 18,
     "metadata": {},
     "output_type": "execute_result"
    },
    {
     "data": {
      "image/png": "[encoded data removed]",
      "text/plain": [
       "<Figure size 432x288 with 2 Axes>"
      ]
     },
     "metadata": {
      "needs_background": "light"
     },
     "output_type": "display_data"
    }
   ],
   "source": [
    "from sklearn.metrics import confusion_matrix\n",
    "import seaborn as sns\n",
    "import pandas as pd\n",
    "import matplotlib as plt\n",
    "\n",
    "y_pred = clf_svm.predict(test_x_vectors)\n",
    "\n",
    "labels = [Sentiment.POSITIVE, Sentiment.NEGATIVE]\n",
    "\n",
    "cm = confusion_matrix(test_y, y_pred, labels=labels)\n",
    "df_cm = pd.DataFrame(cm, index=labels, columns=labels)\n",
    "\n",
    "sns.heatmap(df_cm, annot=True, fmt='d')\n"
   ]
  },
  {
   "cell_type": "code",
   "execution_count": null,
   "metadata": {},
   "outputs": [],
   "source": []
  }
 ],
 "metadata": {
  "kernelspec": {
   "display_name": "Python 3",
   "language": "python",
   "name": "python3"
  },
  "language_info": {
   "codemirror_mode": {
    "name": "ipython",
    "version": 3
   },
   "file_extension": ".py",
   "mimetype": "text/x-python",
   "name": "python",
   "nbconvert_exporter": "python",
   "pygments_lexer": "ipython3",
   "version": "3.7.4"
  }
 },
 "nbformat": 4,
 "nbformat_minor": 2
}
